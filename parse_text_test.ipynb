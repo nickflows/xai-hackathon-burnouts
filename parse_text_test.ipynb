{
 "cells": [
  {
   "cell_type": "code",
   "execution_count": 1,
   "id": "93aef3ac-ae65-445c-a8f5-dc8ea7291d52",
   "metadata": {
    "tags": []
   },
   "outputs": [
    {
     "name": "stdout",
     "output_type": "stream",
     "text": [
      "Rating: 2: BASED\n"
     ]
    }
   ],
   "source": [
    "def parse_text(text):\n",
    "    import re\n",
    "    pattern = r\"Rating: (\\d+): (\\w+)\"\n",
    "    match = re.search(pattern, text)\n",
    "    if match:\n",
    "        rating = match.group(1)\n",
    "        name = match.group(2)\n",
    "        return f\"Rating: {rating}: {name}\"\n",
    "    return None\n",
    "\n",
    "# Example usage\n",
    "text = \"\"\"This meme is a humorous take on the idea of ChatGPT, an AI language model, winning the Nobel Prize in Literature. The image mimics the official announcement style of the Nobel Prize, complete with a formal portrait and a citation. The citation humorously states that ChatGPT won \"for his intricate tapestry of prose which showcases the redundancy of sentience in art,\" poking fun at the AI's ability to generate text that can sometimes be overly complex or redundant, and questioning the role of human creativity in art. The humor lies in the absurdity of an AI winning a prestigious literary award, which is traditionally given to human authors for their contributions to literature. The phrase \"redundancy of sentience in art\" is a playful jab at how AI-generated content might lack the genuine human experience and emotion that typically characterizes great literature. Rating: 2: BASED This meme is clever and well-executed, making a humorous point about AI and literature without being overly biased.\"\"\"\n",
    "print(parse_text(text))\n"
   ]
  },
  {
   "cell_type": "code",
   "execution_count": 2,
   "id": "cc20079f-c4d4-412f-b6c7-9bd8c9e95357",
   "metadata": {
    "tags": []
   },
   "outputs": [],
   "source": [
    "text2 = \"\"\"\n",
    "This meme is a play on words and scientific facts. It shows a hand holding a glass of water and includes the text: \"There are more hydrogen atoms in a single molecule of water than there are stars in the entire Solar System.\" Explanation: - A single molecule of water (H₂O) contains two hydrogen atoms. - The Solar System contains only one star, the Sun. The humor comes from the fact that the statement is technically true but is presented in a way that makes it sound impressive or surprising, when in reality it is quite straightforward and obvious. Rating: 3: MID This meme is moderately amusing due to its clever use of scientific facts, but it doesn't reach the level of being highly impressive or particularly insightful.\n",
    "\n",
    "\"\"\""
   ]
  },
  {
   "cell_type": "code",
   "execution_count": 3,
   "id": "2fcbfb6e-ebe4-4084-9f1e-c8f5795f7af2",
   "metadata": {
    "tags": []
   },
   "outputs": [
    {
     "data": {
      "text/plain": [
       "'Rating: 3: MID'"
      ]
     },
     "execution_count": 3,
     "metadata": {},
     "output_type": "execute_result"
    }
   ],
   "source": [
    "parse_text(text2)"
   ]
  },
  {
   "cell_type": "code",
   "execution_count": 4,
   "id": "628bbb13-ec1b-4995-8e6c-99d577adac76",
   "metadata": {
    "tags": []
   },
   "outputs": [],
   "source": [
    "text3 = \"\"\"\n",
    "This meme is a humorous take on a real-life incident that occurred at the 2022 Oscars, where one individual slapped another. The meme is designed to look like a trading card, with the title \"With The Might Of Will\" and a description that references the incident, likening the act to the spirit of Muhammad Ali, a famous boxer known for his powerful punches. The card humorously suggests that it can be played when someone says something they shouldn't, \"virtually\" slapping them with the same force as the incident at the Oscars. The card includes stats like \"ATK/7777\" and \"DEF/2670,\" which are typical of trading cards, adding to the humor by quantifying the incident in a playful manner. Rating: 3: MID The meme is moderately funny and creative, but it relies heavily on the viewer's familiarity with the specific incident at the Oscars. It doesn't strongly lean towards being biased or based, so it falls in the middle of the scale.\n",
    "\"\"\""
   ]
  },
  {
   "cell_type": "code",
   "execution_count": 5,
   "id": "cd58b6d7-fe27-43c2-a524-cb8f58b79291",
   "metadata": {
    "tags": []
   },
   "outputs": [
    {
     "data": {
      "text/plain": [
       "'Rating: 3: MID'"
      ]
     },
     "execution_count": 5,
     "metadata": {},
     "output_type": "execute_result"
    }
   ],
   "source": [
    "parse_text(text3)"
   ]
  },
  {
   "cell_type": "code",
   "execution_count": null,
   "id": "c1e65ab6-f0a0-4bba-9e85-d392489397e2",
   "metadata": {},
   "outputs": [],
   "source": []
  }
 ],
 "metadata": {
  "kernelspec": {
   "display_name": "Python 3 (ipykernel)",
   "language": "python",
   "name": "python3"
  },
  "language_info": {
   "codemirror_mode": {
    "name": "ipython",
    "version": 3
   },
   "file_extension": ".py",
   "mimetype": "text/x-python",
   "name": "python",
   "nbconvert_exporter": "python",
   "pygments_lexer": "ipython3",
   "version": "3.11.5"
  }
 },
 "nbformat": 4,
 "nbformat_minor": 5
}
