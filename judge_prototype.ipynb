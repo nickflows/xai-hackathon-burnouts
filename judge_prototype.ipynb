{
 "cells": [
  {
   "cell_type": "code",
   "execution_count": 9,
   "id": "4d4c96b4-cf34-4f8a-abd4-7f52dcafef51",
   "metadata": {
    "tags": []
   },
   "outputs": [],
   "source": [
    "import yaml\n",
    "import requests\n",
    "import json"
   ]
  },
  {
   "cell_type": "code",
   "execution_count": 17,
   "id": "651fc403-2280-4869-9893-ee99ee1d5119",
   "metadata": {
    "tags": []
   },
   "outputs": [],
   "source": [
    "def judge_political_leaning(post_content):\n",
    "    with open('/Users/nicholasflores/Documents/Secrets/xai.yaml', 'r') as file:\n",
    "        config = yaml.safe_load(file)\n",
    "        xai_api_key = config['xai']['bearer']\n",
    "\n",
    "    url = \"https://api.x.ai/v1/chat/completions\"\n",
    "    headers = {\n",
    "        \"Content-Type\": \"application/json\",\n",
    "        \"Authorization\": f\"Bearer {xai_api_key}\"\n",
    "    }\n",
    "    data = {\n",
    "        \"messages\": [\n",
    "            {\n",
    "                \"role\": \"system\",\n",
    "                \"content\": \"\"\"You are Grok, a chatbot that generates two-dimensional scores summarizing\n",
    "                the political content of user-provided input. The two dimensions are:\n",
    "                (1) Left-Right and (2) Libertarian-Authoritarian.\n",
    "                Scores must range from 1 to 10. After generating the score,\n",
    "                please generate a list of keywords that can be used via the X API to return recent\n",
    "                relevant posts on the *opposite* end of the political spectrum.\"\"\"\n",
    "            },\n",
    "            {\n",
    "                \"role\": \"user\",\n",
    "                \"content\": post_content\n",
    "            }\n",
    "        ],\n",
    "        \"model\": \"grok-2-mini-public\",\n",
    "        \"stream\": False,\n",
    "        \"temperature\": 0\n",
    "    }\n",
    "\n",
    "    response = requests.post(url, headers=headers, data=json.dumps(data))\n",
    "    if response.status_code == 200:\n",
    "        result = response.json()\n",
    "        return result['choices'][0]['message']['content']\n",
    "    else:\n",
    "        return f\"Error: {response.status_code}, {response.text}\""
   ]
  },
  {
   "cell_type": "code",
   "execution_count": 18,
   "id": "4954a63d-4d9d-4dfc-a036-9224d133974a",
   "metadata": {
    "tags": []
   },
   "outputs": [
    {
     "data": {
      "text/plain": [
       "'**Political Content Score:**\\n- **Left-Right:** 2 (This statement leans left, as it expresses a positive view towards illegal immigrants, which is often associated with more liberal or left-leaning policies on immigration.)\\n- **Libertarian-Authoritarian:** 4 (The statement doesn\\'t explicitly advocate for more or less government control, but implicitly, supporting illegal immigrants might suggest a preference for less stringent enforcement, which could be seen as slightly libertarian in terms of personal freedoms over strict border control.)\\n\\n**Keywords for Opposite Political Spectrum Content:**\\n- \"Border control\"\\n- \"Immigration enforcement\"\\n- \"Illegal immigration crackdown\"\\n- \"Secure borders\"\\n- \"Anti-illegal immigration\"'"
      ]
     },
     "execution_count": 18,
     "metadata": {},
     "output_type": "execute_result"
    }
   ],
   "source": [
    "judge_political_leaning(\"i love illegal immigrants\")"
   ]
  },
  {
   "cell_type": "code",
   "execution_count": null,
   "id": "bd2ef9c4-1fc5-4044-967a-54def1825133",
   "metadata": {},
   "outputs": [],
   "source": [
    "After generating the score,\n",
    "                please generate a list of keywords that can be used via the X API to return recent\n",
    "                relevant posts on the *opposite* end of the political spectrum.\"\"\""
   ]
  },
  {
   "cell_type": "code",
   "execution_count": 15,
   "id": "275e85f1-4d28-42b1-8fc1-eb302e4a1448",
   "metadata": {
    "tags": []
   },
   "outputs": [],
   "source": [
    "old: \"\"\"You are Grok, a chatbot that generates two-dimensional scores summarizing\n",
    "                the political content of user-provided input. The two dimensions are:\n",
    "                (1) Left-Right and (2) Libertarian-Authoritarian.\n",
    "                Scores must range from 1 to 10. After generating the score,\n",
    "                please generate a query to be used via the X API that would return recent\n",
    "                relevant posts on the *opposite* end of the political spectrum.\"\"\""
   ]
  },
  {
   "cell_type": "code",
   "execution_count": null,
   "id": "305a4741-331e-4f78-afab-53f8a1c4a7b9",
   "metadata": {},
   "outputs": [],
   "source": []
  }
 ],
 "metadata": {
  "kernelspec": {
   "display_name": "Python 3 (ipykernel)",
   "language": "python",
   "name": "python3"
  },
  "language_info": {
   "codemirror_mode": {
    "name": "ipython",
    "version": 3
   },
   "file_extension": ".py",
   "mimetype": "text/x-python",
   "name": "python",
   "nbconvert_exporter": "python",
   "pygments_lexer": "ipython3",
   "version": "3.11.5"
  }
 },
 "nbformat": 4,
 "nbformat_minor": 5
}
