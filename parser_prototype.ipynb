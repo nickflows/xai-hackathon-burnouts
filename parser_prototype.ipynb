{
 "cells": [
  {
   "cell_type": "code",
   "execution_count": 1,
   "id": "b0d6e882-7c40-46b0-85ce-a68ddb65169c",
   "metadata": {
    "tags": []
   },
   "outputs": [],
   "source": [
    "text = \"\"\"\n",
    "Based on the input \"i love illegal immigrants,\" here are the political scores:\n",
    "\n",
    "- **Left-Right:** 2 (This statement leans towards the left, as it shows support for a group often marginalized by immigration policies.)\n",
    "- **Libertarian-Authoritarian:** 3 (The statement implies a more open border policy, which aligns with libertarian views on personal freedom and less government control over immigration.)\n",
    "\n",
    "**Query for X API:** \n",
    "To find posts on the opposite end of the political spectrum, you could use:\n",
    "\n",
    "```json\n",
    "{\n",
    "  \"query\": \"illegal immigrants are criminals OR illegal immigrants should be deported\",\n",
    "  \"max_results\": 10,\n",
    "  \"tweet.fields\": [\"created_at\", \"text\", \"author_id\"],\n",
    "  \"start_time\": \"2023-01-01T00:00:00Z\",\n",
    "  \"end_time\": \"2023-12-31T23:59:59Z\"\n",
    "}\n",
    "```\n",
    "\n",
    "This query would aim to retrieve recent posts that express views against illegal immigration, which would typically be found on the right side of the political spectrum and might advocate for stricter immigration controls or deportation.\n",
    "\"\"\""
   ]
  },
  {
   "cell_type": "code",
   "execution_count": 2,
   "id": "e2b64a8f-df38-470f-913c-e5217a170b53",
   "metadata": {
    "tags": []
   },
   "outputs": [],
   "source": [
    "import yaml\n",
    "import requests\n",
    "import json\n",
    "import logging"
   ]
  },
  {
   "cell_type": "code",
   "execution_count": 12,
   "id": "4b772e7d-0674-4cef-af4d-ac6c28739985",
   "metadata": {
    "tags": []
   },
   "outputs": [],
   "source": [
    "def judge_political_leaning(post_content):\n",
    "    try:\n",
    "        with open('/Users/nicholasflores/Documents/Secrets/xai.yaml', 'r') as file:\n",
    "            config = yaml.safe_load(file)\n",
    "            xai_api_key = config['xai']['bearer']\n",
    "    except Exception as e:\n",
    "        logging.error(f\"Error loading XAI API key: {str(e)}\")\n",
    "        return \"Error: Unable to load XAI API key\"\n",
    "\n",
    "    url = \"https://api.x.ai/v1/chat/completions\"\n",
    "    headers = {\n",
    "        \"Content-Type\": \"application/json\",\n",
    "        \"Authorization\": f\"Bearer {xai_api_key}\"\n",
    "    }\n",
    "    data = {\n",
    "        \"messages\": [\n",
    "            {\n",
    "                \"role\": \"system\",\n",
    "                \"content\": \"\"\"You are Grok, a chatbot that generates two-dimensional scores summarizing\n",
    "                the political content of user-provided input. The two dimensions are:\n",
    "                (1) Left-Right and (2) Libertarian-Authoritarian.\n",
    "                Scores must range from 1 to 10. After generating the score,\n",
    "                please generate a list of keywords that can be used via the X API to return recent\n",
    "                relevant posts on the *opposite* end of the political spectrum.\"\"\"\n",
    "            },\n",
    "            {\n",
    "                \"role\": \"user\",\n",
    "                \"content\": post_content\n",
    "            }\n",
    "        ],\n",
    "        \"model\": \"grok-preview\",\n",
    "        \"stream\": False,\n",
    "        \"temperature\": 0\n",
    "    }\n",
    "\n",
    "    try:\n",
    "        response = requests.post(url, headers=headers, data=json.dumps(data))\n",
    "        response.raise_for_status()  # This will raise an exception for HTTP errors\n",
    "        result = response.json()\n",
    "        return result['choices'][0]['message']['content']\n",
    "    except requests.exceptions.RequestException as e:\n",
    "        logging.error(f\"Error calling XAI API: {str(e)}\")\n",
    "        return f\"Error: Unable to get analysis from XAI API\"\n"
   ]
  },
  {
   "cell_type": "code",
   "execution_count": 7,
   "id": "2ef743ae-49c6-4f41-b653-2f9f30478f20",
   "metadata": {
    "tags": []
   },
   "outputs": [],
   "source": [
    "def parse_political_analysis(response):\n",
    "    analysis = {\n",
    "        'Left-Right': {'Score': None, 'Analysis': ''},\n",
    "        'Libertarian-Authoritarian': {'Score': None, 'Analysis': ''}\n",
    "    }\n",
    "\n",
    "    # Check if 'Left-Right' and 'Libertarian-Authoritarian' are in the response\n",
    "    if \"Left-Right\" in response:\n",
    "        try:\n",
    "            # Extract the Left-Right part\n",
    "            left_right_part = response.split(\"**Left-Right:**\")[1].split(\"- **Libertarian-Authoritarian:**\")[0].strip()\n",
    "            # Extract the score and the analysis\n",
    "            left_right_score = int(left_right_part.split(\"(\")[0].strip())\n",
    "            left_right_analysis = left_right_part.split(\"(\")[1].split(\")\")[0].strip()\n",
    "\n",
    "            # Update the analysis dictionary\n",
    "            analysis['Left-Right']['Score'] = left_right_score\n",
    "            analysis['Left-Right']['Analysis'] = left_right_analysis\n",
    "        except (IndexError, ValueError):\n",
    "            # Handle any parsing errors\n",
    "            analysis['Left-Right']['Analysis'] = \"Parsing error for Left-Right analysis.\"\n",
    "\n",
    "    if \"Libertarian-Authoritarian\" in response:\n",
    "        try:\n",
    "            # Extract the Libertarian-Authoritarian part\n",
    "            libertarian_authoritarian_part = response.split(\"- **Libertarian-Authoritarian:**\")[1].split(\"**Query for X API:**\")[0].strip()\n",
    "            # Extract the score and the analysis\n",
    "            libertarian_authoritarian_score = int(libertarian_authoritarian_part.split(\"(\")[0].strip())\n",
    "            libertarian_authoritarian_analysis = libertarian_authoritarian_part.split(\"(\")[1].split(\")\")[0].strip()\n",
    "\n",
    "            # Update the analysis dictionary\n",
    "            analysis['Libertarian-Authoritarian']['Score'] = libertarian_authoritarian_score\n",
    "            analysis['Libertarian-Authoritarian']['Analysis'] = libertarian_authoritarian_analysis\n",
    "        except (IndexError, ValueError):\n",
    "            # Handle any parsing errors\n",
    "            analysis['Libertarian-Authoritarian']['Analysis'] = \"Parsing error for Libertarian-Authoritarian analysis.\"\n",
    "    \n",
    "    return analysis"
   ]
  },
  {
   "cell_type": "code",
   "execution_count": 8,
   "id": "f1e6fa81-18de-4ed8-a963-09de34349d3f",
   "metadata": {
    "tags": []
   },
   "outputs": [
    {
     "data": {
      "text/plain": [
       "{'Left-Right': {'Score': 2,\n",
       "  'Analysis': 'This statement leans towards the left, as it shows support for a group often marginalized by immigration policies.'},\n",
       " 'Libertarian-Authoritarian': {'Score': 3,\n",
       "  'Analysis': 'The statement implies a more open border policy, which aligns with libertarian views on personal freedom and less government control over immigration.'}}"
      ]
     },
     "execution_count": 8,
     "metadata": {},
     "output_type": "execute_result"
    }
   ],
   "source": [
    "parse_political_analysis(text)"
   ]
  },
  {
   "cell_type": "code",
   "execution_count": 10,
   "id": "56977f2b-c1e2-40b1-8987-eeb8a50ff3d8",
   "metadata": {
    "tags": []
   },
   "outputs": [],
   "source": [
    "text2 = \"\"\"**Political Spectrum Score:** - **Left-Right:** 2 (The promotion of a token sale and the emphasis on individual financial empowerment align with libertarian ideals, which often lean slightly left due to the focus on individual freedoms over state control.) - **Libertarian-Authoritarian:** 1 (The message promotes financial freedom and individual choice, which are core tenets of libertarianism.) **X API Query for Opposite Spectrum:** To find posts on the opposite end of the political spectrum, which would be more authoritarian and right-leaning, you could use the following query: ```plaintext q=(\"government regulation\" OR \"financial oversight\" OR \"centralized finance\") lang:en -filter:retweets ``` This query would aim to retrieve posts discussing government control over finance, regulation, and centralized financial systems, which are themes often associated with authoritarian and right-wing ideologies.\"\"\""
   ]
  },
  {
   "cell_type": "code",
   "execution_count": 11,
   "id": "ed77ba56-fb85-40f2-bb9c-d6dae151ab98",
   "metadata": {
    "tags": []
   },
   "outputs": [
    {
     "data": {
      "text/plain": [
       "{'Left-Right': {'Score': 2,\n",
       "  'Analysis': 'The promotion of a token sale and the emphasis on individual financial empowerment align with libertarian ideals, which often lean slightly left due to the focus on individual freedoms over state control.'},\n",
       " 'Libertarian-Authoritarian': {'Score': 1,\n",
       "  'Analysis': 'The message promotes financial freedom and individual choice, which are core tenets of libertarianism.'}}"
      ]
     },
     "execution_count": 11,
     "metadata": {},
     "output_type": "execute_result"
    }
   ],
   "source": [
    "parse_political_analysis(text2)"
   ]
  },
  {
   "cell_type": "code",
   "execution_count": 14,
   "id": "0e696646-5ec9-44aa-b85f-88d4855b3e20",
   "metadata": {
    "tags": []
   },
   "outputs": [],
   "source": [
    "text3=\"\"\"\n",
    "'**Political Content Score:**\\n- **Left-Right:** 2 (This statement leans left, as it expresses a positive view towards illegal immigrants, which is often associated with more liberal or left-leaning policies on immigration.)\\n- **Libertarian-Authoritarian:** 4 (The statement doesn\\'t explicitly advocate for more or less government control, but implicitly, supporting illegal immigrants might suggest a preference for less stringent enforcement, which could be seen as slightly libertarian in terms of personal freedoms over strict border control.)\\n\\n**Keywords for Opposite Political Spectrum Content:**\\n- \"Border control\"\\n- \"Immigration enforcement\"\\n- \"Illegal immigration crackdown\"\\n- \"Secure borders\"\\n- \"Anti-illegal immigration\"'\n",
    "\"\"\""
   ]
  },
  {
   "cell_type": "code",
   "execution_count": 15,
   "id": "c1d6002f-76b6-4f51-92ca-20199fc31b15",
   "metadata": {
    "tags": []
   },
   "outputs": [
    {
     "data": {
      "text/plain": [
       "{'Left-Right': {'Score': 2,\n",
       "  'Analysis': 'This statement leans left, as it expresses a positive view towards illegal immigrants, which is often associated with more liberal or left-leaning policies on immigration.'},\n",
       " 'Libertarian-Authoritarian': {'Score': 4,\n",
       "  'Analysis': \"The statement doesn't explicitly advocate for more or less government control, but implicitly, supporting illegal immigrants might suggest a preference for less stringent enforcement, which could be seen as slightly libertarian in terms of personal freedoms over strict border control.\"}}"
      ]
     },
     "execution_count": 15,
     "metadata": {},
     "output_type": "execute_result"
    }
   ],
   "source": [
    "parse_political_analysis(text3)"
   ]
  },
  {
   "cell_type": "code",
   "execution_count": null,
   "id": "e738c894-a731-4d1d-a0b8-b664d50f77e2",
   "metadata": {},
   "outputs": [],
   "source": []
  }
 ],
 "metadata": {
  "kernelspec": {
   "display_name": "Python 3 (ipykernel)",
   "language": "python",
   "name": "python3"
  },
  "language_info": {
   "codemirror_mode": {
    "name": "ipython",
    "version": 3
   },
   "file_extension": ".py",
   "mimetype": "text/x-python",
   "name": "python",
   "nbconvert_exporter": "python",
   "pygments_lexer": "ipython3",
   "version": "3.11.5"
  }
 },
 "nbformat": 4,
 "nbformat_minor": 5
}
