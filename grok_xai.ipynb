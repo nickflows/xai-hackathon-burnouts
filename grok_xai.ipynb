{
 "cells": [
  {
   "cell_type": "code",
   "execution_count": 1,
   "id": "d00a408d-094c-4e0b-aedc-cb366e675790",
   "metadata": {
    "tags": []
   },
   "outputs": [],
   "source": [
    "import requests\n",
    "from typing import Dict, Any"
   ]
  },
  {
   "cell_type": "code",
   "execution_count": null,
   "id": "0c1fbd38-8ab4-46ce-af33-cbfd6f2b72d2",
   "metadata": {},
   "outputs": [],
   "source": []
  },
  {
   "cell_type": "code",
   "execution_count": 2,
   "id": "ef8c1ec5-8781-40e9-8bb4-225a9f48d4b7",
   "metadata": {
    "tags": []
   },
   "outputs": [],
   "source": [
    "def call_grok_api(\n",
    "    api_key: str,\n",
    "    role_system: str,\n",
    "    content_system: str,\n",
    "    role_user: str,\n",
    "    content_user: str,\n",
    "    model: str = \"grok-preview\",\n",
    "    stream: bool = False,\n",
    "    temperature: float = 0.0\n",
    ") -> Dict[str, Any]:\n",
    "    \"\"\"\n",
    "    Make a request to the Grok API with specified parameters.\n",
    "\n",
    "    Args:\n",
    "        api_key (str): The API key for authentication.\n",
    "        role_system (str): The role for the system message.\n",
    "        content_system (str): The content of the system message.\n",
    "        role_user (str): The role for the user message.\n",
    "        content_user (str): The content of the user message.\n",
    "        model (str): The model to use for the request.\n",
    "        stream (bool): Whether to stream the response.\n",
    "        temperature (float): Temperature for the model.\n",
    "\n",
    "    Returns:\n",
    "        Dict[str, Any]: The JSON response from the API.\n",
    "\n",
    "    Raises:\n",
    "        requests.RequestException: If there's an error with the API request.\n",
    "    \"\"\"\n",
    "    # Prepare the message structure\n",
    "    messages = [\n",
    "        {\"role\": role_system, \"content\": content_system},\n",
    "        {\"role\": role_user, \"content\": content_user}\n",
    "    ]\n",
    "\n",
    "    # Prepare the payload\n",
    "    payload = {\n",
    "        \"messages\": messages,\n",
    "        \"model\": model,\n",
    "        \"stream\": stream,\n",
    "        \"temperature\": temperature\n",
    "    }\n",
    "\n",
    "    # API endpoint\n",
    "    api_url = \"https://api.x.ai/v1/chat/completions\"\n",
    "\n",
    "    # Set up the headers\n",
    "    headers = {\n",
    "        \"Content-Type\": \"application/json\",\n",
    "        \"Authorization\": f\"Bearer {api_key}\"\n",
    "    }\n",
    "\n",
    "    try:\n",
    "        # Send the POST request\n",
    "        response = requests.post(api_url, headers=headers, json=payload)\n",
    "        \n",
    "        # Raise an exception for bad status codes\n",
    "        response.raise_for_status()\n",
    "        \n",
    "        # Return the JSON response\n",
    "        return response.json()\n",
    "    \n",
    "    except requests.RequestException as e:\n",
    "        # Handle any request exceptions\n",
    "        print(f\"An error occurred: {e}\")\n",
    "        raise\n",
    "\n",
    "# Example usage:\n",
    "# result = call_grok_api(\n",
    "#     api_key=\"xai-TJKZw6wP9GFhN6ahG05RVwx6cMpj9W2lFapQSQbQPmUCh7wCOij96R5EPULthS3u6y8Bvfky8HELUtLX\",\n",
    "#     role_system=\"system\",\n",
    "#     content_system=\"You are Grok, a mastermind of chinese medicine.\",\n",
    "#     role_user=\"user\",\n",
    "#     content_user=\"Tell me about liver qi stagnation\"\n",
    "# )\n",
    "# print(result)"
   ]
  },
  {
   "cell_type": "code",
   "execution_count": null,
   "id": "23acbc57-1333-4ca4-a0b0-ac7494830c1c",
   "metadata": {},
   "outputs": [],
   "source": []
  }
 ],
 "metadata": {
  "kernelspec": {
   "display_name": "Python 3 (ipykernel)",
   "language": "python",
   "name": "python3"
  },
  "language_info": {
   "codemirror_mode": {
    "name": "ipython",
    "version": 3
   },
   "file_extension": ".py",
   "mimetype": "text/x-python",
   "name": "python",
   "nbconvert_exporter": "python",
   "pygments_lexer": "ipython3",
   "version": "3.11.5"
  }
 },
 "nbformat": 4,
 "nbformat_minor": 5
}
